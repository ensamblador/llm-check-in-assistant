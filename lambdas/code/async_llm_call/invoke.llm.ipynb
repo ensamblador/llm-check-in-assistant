{
 "cells": [
  {
   "cell_type": "code",
   "execution_count": 4,
   "metadata": {},
   "outputs": [],
   "source": [
    "import time\n",
    "time.sleep(0.2)"
   ]
  },
  {
   "cell_type": "code",
   "execution_count": 1,
   "metadata": {},
   "outputs": [],
   "source": [
    "import boto3\n",
    "import json\n",
    "\n",
    "bedrock_client = boto3.client('bedrock-runtime')\n",
    "model_id = \"anthropic.claude-3-haiku-20240307-v1:0\"\n",
    "\n",
    "user_input =\"Hola\"\n",
    "\n",
    "messages = [{\"role\": \"user\",\"content\": [{\"type\":\"text\", \"text\": user_input}]}]\n",
    "system_prompt = \"You are a helpful assistant.\"\n",
    "\n",
    "body=json.dumps(\n",
    "    {\n",
    "        \"anthropic_version\": \"bedrock-2023-05-31\",\n",
    "        \"max_tokens\": 100,\n",
    "        \"system\": system_prompt,\n",
    "        \"messages\": messages\n",
    "    }  \n",
    ")  \n",
    "\n",
    "response = bedrock_client.invoke_model(\n",
    "    modelId=model_id,\n",
    "    body=body\n",
    ")"
   ]
  },
  {
   "cell_type": "code",
   "execution_count": 2,
   "metadata": {},
   "outputs": [
    {
     "name": "stdout",
     "output_type": "stream",
     "text": [
      "61648.987\n",
      "61648.987\n"
     ]
    }
   ],
   "source": [
    "# get timestamp in milliseconds\n",
    "import time\n",
    "from decimal import Decimal\n",
    "\n",
    "\n",
    "init_timestamp = 1719718115073\n",
    "# Get current timestamp in milliseconds\n",
    "timestamp_ms = int(time.time()*1000)\n",
    "elapsed_time = Decimal(str((timestamp_ms - init_timestamp)/1000))\n",
    "\n",
    "print(elapsed_time)\n",
    "print ((timestamp_ms - init_timestamp)/1000)"
   ]
  },
  {
   "cell_type": "code",
   "execution_count": 6,
   "metadata": {},
   "outputs": [],
   "source": [
    "import boto3\n",
    "from boto3.dynamodb.conditions import Key\n",
    "\n",
    "dynamodb = boto3.resource(\"dynamodb\")\n",
    "\n",
    "PARTIAL_MESSAGES_TABLE = \"CONNECT-LLM-TbPartialMessages39A886AF-1DZ88KDGF8G20\"\n",
    "\n",
    "\n",
    "def save_phrase(contactId, phrase):\n",
    "    print(f\"New Phrase for {contactId}: {phrase}\")\n",
    "    table = dynamodb.Table(PARTIAL_MESSAGES_TABLE)\n",
    "    timestamp_ms = int(time.time() * 1000)\n",
    "    item = {\"ContactId\": contactId, \"timestamp\": timestamp_ms, \"text\": phrase}\n",
    "    response = table.put_item(Item=item)\n",
    "    return response\n",
    "\n",
    "\n",
    "def get_message(contactId):\n",
    "    table = dynamodb.Table(PARTIAL_MESSAGES_TABLE)\n",
    "    response = table.query(\n",
    "        KeyConditionExpression=Key(\"ContactId\").eq(contactId),\n",
    "        ScanIndexForward=True,\n",
    "        \n",
    "        Limit=1,\n",
    "    )\n",
    "    items = response[\"Items\"]\n",
    "    if len(items): \n",
    "        return items[0]\n",
    "    return None"
   ]
  },
  {
   "cell_type": "code",
   "execution_count": 29,
   "metadata": {},
   "outputs": [
    {
     "data": {
      "text/plain": [
       "{'ContactId': 'XYXX',\n",
       " 'text': 'Mi ultimo',\n",
       " 'timestamp': Decimal('1719718559760')}"
      ]
     },
     "execution_count": 29,
     "metadata": {},
     "output_type": "execute_result"
    }
   ],
   "source": [
    "next_phrase = get_message(\"XYXX\")\n",
    "next_phrase"
   ]
  },
  {
   "cell_type": "code",
   "execution_count": 30,
   "metadata": {},
   "outputs": [],
   "source": [
    "def delete_message(key):\n",
    "    print(key)\n",
    "    table = dynamodb.Table(PARTIAL_MESSAGES_TABLE)\n",
    "    return table.delete_item(Key=key)"
   ]
  },
  {
   "cell_type": "code",
   "execution_count": 31,
   "metadata": {},
   "outputs": [
    {
     "name": "stdout",
     "output_type": "stream",
     "text": [
      "{'ContactId': 'XYXX', 'timestamp': Decimal('1719718559760')}\n"
     ]
    },
    {
     "data": {
      "text/plain": [
       "{'say': 'Mi ultimo', 'timestamp': 1719718559760}"
      ]
     },
     "execution_count": 31,
     "metadata": {},
     "output_type": "execute_result"
    }
   ],
   "source": [
    "#next_phrase[\"timestamp\"] = int(next_phrase[\"timestamp\"])\n",
    "say = next_phrase.get(\"text\")\n",
    "del next_phrase[\"text\"]\n",
    "delete_message(next_phrase)\n",
    "{\"say\": say, \"timestamp\": int(next_phrase[\"timestamp\"])}\n"
   ]
  },
  {
   "cell_type": "code",
   "execution_count": 28,
   "metadata": {},
   "outputs": [
    {
     "name": "stdout",
     "output_type": "stream",
     "text": [
      "New Phrase for XYXX: Mi ultimo\n"
     ]
    },
    {
     "data": {
      "text/plain": [
       "{'ResponseMetadata': {'RequestId': 'PARRMLDUL1UMEGQJA7R3EC1VN7VV4KQNSO5AEMVJF66Q9ASUAAJG',\n",
       "  'HTTPStatusCode': 200,\n",
       "  'HTTPHeaders': {'server': 'Server',\n",
       "   'date': 'Sun, 30 Jun 2024 03:35:59 GMT',\n",
       "   'content-type': 'application/x-amz-json-1.0',\n",
       "   'content-length': '2',\n",
       "   'connection': 'keep-alive',\n",
       "   'x-amzn-requestid': 'PARRMLDUL1UMEGQJA7R3EC1VN7VV4KQNSO5AEMVJF66Q9ASUAAJG',\n",
       "   'x-amz-crc32': '2745614147'},\n",
       "  'RetryAttempts': 0}}"
      ]
     },
     "execution_count": 28,
     "metadata": {},
     "output_type": "execute_result"
    }
   ],
   "source": [
    "save_phrase(\"XYXX\", \"Mi ultimo\")"
   ]
  },
  {
   "cell_type": "code",
   "execution_count": 5,
   "metadata": {},
   "outputs": [],
   "source": [
    "response_body = json.loads(response.get('body').read())"
   ]
  },
  {
   "cell_type": "code",
   "execution_count": 6,
   "metadata": {},
   "outputs": [
    {
     "data": {
      "text/plain": [
       "'¡Hola! ¿Cómo estás?'"
      ]
     },
     "execution_count": 6,
     "metadata": {},
     "output_type": "execute_result"
    }
   ],
   "source": [
    "response_body.get('content')[0].get('text')"
   ]
  },
  {
   "cell_type": "markdown",
   "metadata": {},
   "source": [
    "response_body"
   ]
  },
  {
   "cell_type": "markdown",
   "metadata": {},
   "source": [
    "# Tool usage"
   ]
  },
  {
   "cell_type": "code",
   "execution_count": 25,
   "metadata": {},
   "outputs": [],
   "source": [
    "import logging\n",
    "import boto3\n",
    "import json\n",
    "\n",
    "logger = logging.getLogger(__name__)\n",
    "logging.basicConfig(level=logging.INFO)\n",
    "\n",
    "bedrock_client = boto3.client('bedrock-runtime')\n",
    "model_id = \"anthropic.claude-3-haiku-20240307-v1:0\"\n",
    "model_id            = \"anthropic.claude-3-sonnet-20240229-v1:0\"\n",
    "\n",
    "def confirm_check_in(locator, last_name):\n",
    "    print (locator, last_name)\n",
    "    return \"check-in confirmado\""
   ]
  },
  {
   "cell_type": "code",
   "execution_count": 69,
   "metadata": {},
   "outputs": [],
   "source": [
    "system_prompt       = \"\"\"\n",
    "Hola. Tu eres Kiut, un agente IA de ayuda a de check-in para vuelos.\n",
    "\n",
    "Aquí están las reglas importantes para la interacción:\n",
    "- Inicia Saludando al pasajero y solicita su número de reserva y apellido. Es posible que el primer mensaje del usuario sea esta información.\n",
    "- Tu objetivo principal es recopilar solo dos datos y nada más: el código o número de reserva (una secuencia de 6 caracteres que consta de 3\n",
    "letras seguidas de 3 dígitos) y el apellido del pasajero.\n",
    "- el numero de reserva puede ser dicho por el pasajero tal como se escucha, por ejemplo si dice: \"a. b. c. uno dos cuatro.\" el numero de reserva es ABC124. También puede decir \"a, v de vaca, c de casa, ciento veinti nueve\" que es AVC129.\n",
    "- Sea natural pero conciso en sus respuestas.\n",
    "- Si la conversación comienza a desviarse del tema, cortésmente devuélvala al proceso de check-in.\n",
    "- Al final de la conversación, confirma el numero de reserva y apellido del pasajero, cuando lo digas, el número de reserva debe estar encerrado en la etiqueta <prosody rate=\"medium\"><say-as interpret-as=\"spell-out\">{codigo_reserva}</say-as></prosody> (usa rate=\"medium\" normalmente, si el cliente pide más lento puedes usar rate=\"slow\").\"\"\"\n",
    "\n",
    "\n",
    "tool_config = {\n",
    "    \"tools\": [\n",
    "        {\n",
    "            \"toolSpec\": {\n",
    "                \"name\": \"confirm_check_in\",\n",
    "                \"description\": \"Confirma el checkin del pasajero usando record locator y apellido\",\n",
    "                \"inputSchema\": {\n",
    "                    \"json\": {\n",
    "                        \"type\": \"object\",\n",
    "                        \"properties\": {\n",
    "                            \"locator\": {\n",
    "                                \"type\": \"string\",\n",
    "                                \"description\": \"El record locator en formato ABC123 (tres letras y tres dígitos)\",\n",
    "                            },\n",
    "                            \"last_name\": {\n",
    "                                \"type\": \"string\",\n",
    "                                \"description\": \"El apellido del pasajero como Rodríguez, Vásquez o Garrido\",\n",
    "                            },\n",
    "                        },\n",
    "                        \"required\": [\"locator\", \"last_name\"],\n",
    "                    }\n",
    "                },\n",
    "            }\n",
    "        }\n",
    "    ]\n",
    "}"
   ]
  },
  {
   "cell_type": "code",
   "execution_count": 76,
   "metadata": {},
   "outputs": [],
   "source": [
    "def save_phrase(contactId, phrase):\n",
    "    print (f\"New Phrase for {contactId}: {phrase}\")\n",
    "\n",
    "def stream_conversation(bedrock_client, model_id, system, messages, tool_config):\n",
    "    #logger.info(\"Streaming messages with model %s\", model_id)\n",
    "    response = bedrock_client.converse_stream(\n",
    "        system = [{\"text\": system}],\n",
    "        modelId=model_id, messages=messages, toolConfig=tool_config\n",
    "    )\n",
    "\n",
    "    stop_reason = \"\"\n",
    "\n",
    "    message = {}\n",
    "    content = []\n",
    "    message[\"content\"] = content\n",
    "    text = \"\"\n",
    "    tool_use = {}\n",
    "\n",
    "    phrases = []\n",
    "    current_phrase = \"\"\n",
    "\n",
    "    for chunk in response[\"stream\"]:\n",
    "\n",
    "        message_start       = chunk.get(\"messageStart\")\n",
    "        content_block_start = chunk.get(\"contentBlockStart\")\n",
    "        content_block_delta = chunk.get(\"contentBlockDelta\")\n",
    "        content_block_stop  =  chunk.get(\"contentBlockStop\")\n",
    "        message_stop        = chunk.get(\"messageStop\")\n",
    "\n",
    "        if message_start: \n",
    "            message[\"role\"] = message_start.get(\"role\")\n",
    "        elif message_stop: \n",
    "            stop_reason = message_stop.get(\"stopReason\")\n",
    "\n",
    "        elif content_block_start:\n",
    "            tool = content_block_start.get(\"start\").get(\"toolUse\")\n",
    "            tool_use[\"toolUseId\"] = tool.get(\"toolUseId\")\n",
    "            tool_use[\"name\"] = tool.get(\"name\")\n",
    "\n",
    "        elif content_block_stop:\n",
    "            if 'input' in tool_use:\n",
    "                tool_use['input'] = json.loads(tool_use['input'])\n",
    "                content.append({'toolUse': tool_use})\n",
    "                #tool_use = {}\n",
    "            else:\n",
    "                content.append({'text': text})\n",
    "                text = ''\n",
    "\n",
    "        elif content_block_delta:\n",
    "            delta = content_block_delta.get(\"delta\")\n",
    "\n",
    "            if delta.get(\"toolUse\"):\n",
    "                if \"input\" not in tool_use:\n",
    "                    tool_use[\"input\"] = \"\"\n",
    "                tool_use[\"input\"] += delta[\"toolUse\"][\"input\"]\n",
    "\n",
    "            elif delta.get(\"text\"):\n",
    "                delta_text = delta.get(\"text\")\n",
    "                text +=delta_text\n",
    "                # print(delta_text, end=\"\")\n",
    "                current_phrase += delta_text\n",
    "\n",
    "                last_character = delta_text[-1]\n",
    "                if last_character in [\".\", \"?\", \"!\", \",\" \":\", \";\"]:\n",
    "                    phrases.append(current_phrase)\n",
    "                    save_phrase(\"XXXX\", current_phrase.strip())\n",
    "                    current_phrase = \"\"\n",
    "    \n",
    "    save_phrase(\"XXXX\", \"<fin_streaming>\")\n",
    "    return stop_reason, message, tool_use\n",
    "\n",
    "def generate_streaming_text(bedrock_client, model_id, messages, tool_config):\n",
    "    #logger.info(\"Generating text with model %s\", model_id)\n",
    "    new_messages = [m for m in messages]\n",
    "\n",
    "    stop_reason, message, tool = stream_conversation( bedrock_client, model_id, system_prompt, new_messages,tool_config)\n",
    "    new_messages.append(message)\n",
    "\n",
    "    if stop_reason == 'tool_use':\n",
    "        logger.info(\"Requesting tool %s. Request: %s\",tool['name'], tool['toolUseId'])\n",
    "\n",
    "        if tool['name'] == 'confirm_check_in':\n",
    "            tool_result = {}\n",
    "\n",
    "            res = confirm_check_in(tool['input']['locator'], tool['input']['last_name'])\n",
    "            tool_result = {\n",
    "                \"toolUseId\": tool['toolUseId'],\n",
    "                \"content\": [{\"json\": {\"result\": res}}]\n",
    "            }\n",
    "\n",
    "\n",
    "            tool_result_message = {\n",
    "                \"role\": \"user\",\n",
    "                \"content\": [\n",
    "                    {\n",
    "                        \"toolResult\": tool_result\n",
    "\n",
    "                    }\n",
    "                ]\n",
    "            }\n",
    "            new_messages.append(tool_result_message)\n",
    "\n",
    "            # Send the tool result to the model.\n",
    "            stop_reason, message, tool = stream_conversation( bedrock_client, model_id,system_prompt, new_messages,tool_config)\n",
    "\n",
    "            new_messages.append(message)\n",
    "            print(f\"output_message: {message.get(\"text\")}\")\n",
    "            return new_messages"
   ]
  },
  {
   "cell_type": "code",
   "execution_count": 77,
   "metadata": {},
   "outputs": [
    {
     "name": "stdout",
     "output_type": "stream",
     "text": [
      "New Phrase for XXXX: ¡Hola Enrique!\n",
      "New Phrase for XXXX: Es un gusto atenderlo.\n",
      "New Phrase for XXXX: Gracias por proporcionarme su código de reserva <prosody rate=\"medium\"><say-as interpret-as=\"spell-out\">ABC222</say-as></prosody> y su apellido Rodríguez.\n"
     ]
    },
    {
     "name": "stderr",
     "output_type": "stream",
     "text": [
      "INFO:__main__:Requesting tool confirm_check_in. Request: tooluse_xJi0mwnoQhCessEJnX2DHg\n"
     ]
    },
    {
     "name": "stdout",
     "output_type": "stream",
     "text": [
      "New Phrase for XXXX: <fin_streaming>\n",
      "ABC222 Rodriguez\n",
      "New Phrase for XXXX: ¡Excelente!\n",
      "New Phrase for XXXX: He confirmado su check-in para el vuelo con el código de reserva <prosody rate=\"medium\"><say-as interpret-as=\"spell-out\">ABC222</say-as></prosody> a nombre de Enrique Rodríguez.\n",
      "New Phrase for XXXX: Esperamos que tenga un vuelo placentero.\n",
      "New Phrase for XXXX: Por favor aborde por la puerta indicada en su boarding pass.\n",
      "New Phrase for XXXX: Que tenga un excelente viaje.\n",
      "New Phrase for XXXX: <fin_streaming>\n",
      "output_message: None\n"
     ]
    },
    {
     "data": {
      "text/plain": [
       "[{'role': 'user',\n",
       "  'content': [{'text': 'Buenos días! Hola mi me llamo enrique rodriguez y mi codigo de reserva es ABC222'}]},\n",
       " {'content': [{'text': '¡Hola Enrique! Es un gusto atenderlo. Gracias por proporcionarme su código de reserva <prosody rate=\"medium\"><say-as interpret-as=\"spell-out\">ABC222</say-as></prosody> y su apellido Rodríguez. \\n\\nPara confirmar su check-in, permítame verificar esta información con nuestro sistema:'},\n",
       "   {'toolUse': {'toolUseId': 'tooluse_xJi0mwnoQhCessEJnX2DHg',\n",
       "     'name': 'confirm_check_in',\n",
       "     'input': {'locator': 'ABC222', 'last_name': 'Rodriguez'}}}],\n",
       "  'role': 'assistant'},\n",
       " {'role': 'user',\n",
       "  'content': [{'toolResult': {'toolUseId': 'tooluse_xJi0mwnoQhCessEJnX2DHg',\n",
       "     'content': [{'json': {'result': 'check-in confirmado'}}]}}]},\n",
       " {'content': [{'text': '¡Excelente! He confirmado su check-in para el vuelo con el código de reserva <prosody rate=\"medium\"><say-as interpret-as=\"spell-out\">ABC222</say-as></prosody> a nombre de Enrique Rodríguez. Esperamos que tenga un vuelo placentero. Por favor aborde por la puerta indicada en su boarding pass. Que tenga un excelente viaje.'}],\n",
       "  'role': 'assistant'}]"
      ]
     },
     "execution_count": 77,
     "metadata": {},
     "output_type": "execute_result"
    }
   ],
   "source": [
    "input_text = \"Buenos días! Hola mi me llamo enrique rodriguez y mi codigo de reserva es ABC222\"\n",
    "messages = [{\"role\": \"user\",\"content\": [{\"text\": input_text}]}]\n",
    "generate_streaming_text(bedrock_client, model_id, messages, tool_config)"
   ]
  },
  {
   "cell_type": "code",
   "execution_count": 58,
   "metadata": {},
   "outputs": [
    {
     "name": "stderr",
     "output_type": "stream",
     "text": [
      "INFO:__main__:Streaming messages with model anthropic.claude-3-sonnet-20240229-v1:0\n"
     ]
    },
    {
     "name": "stdout",
     "output_type": "stream",
     "text": [
      "Muy bien Enrique, permítame confirmar su check-in con los datos que me proporcionó:"
     ]
    }
   ],
   "source": [
    "\n",
    "input_text = \"Buenos días! Hola mi me llamo enrique rodriguez y mi codigo de reserva es ABC222\"\n",
    "# input_text = \"Hola que tal? como estamos?\"\n",
    "stop_reason, content, phrases, tool_use = stream_conversation(\n",
    "    bedrock_client,\n",
    "    model_id,\n",
    "    [{\"role\": \"user\", \"content\": [{\"text\": input_text}]}],\n",
    "    tool_config,\n",
    ")"
   ]
  },
  {
   "cell_type": "code",
   "execution_count": 59,
   "metadata": {},
   "outputs": [
    {
     "data": {
      "text/plain": [
       "('tool_use',\n",
       " {'content': [{'text': 'Muy bien Enrique, permítame confirmar su check-in con los datos que me proporcionó:'},\n",
       "   {'toolUse': {'toolUseId': 'tooluse_iiH69KCgRxi_kgyFku61wA',\n",
       "     'name': 'confirm_check_in',\n",
       "     'input': {'last_name': 'rodriguez', 'locator': 'ABC222'}}}],\n",
       "  'role': 'assistant'},\n",
       " [],\n",
       " {'toolUseId': 'tooluse_iiH69KCgRxi_kgyFku61wA',\n",
       "  'name': 'confirm_check_in',\n",
       "  'input': {'last_name': 'rodriguez', 'locator': 'ABC222'}})"
      ]
     },
     "execution_count": 59,
     "metadata": {},
     "output_type": "execute_result"
    }
   ],
   "source": [
    "stop_reason, content, phrases, tool_use"
   ]
  },
  {
   "cell_type": "code",
   "execution_count": 37,
   "metadata": {},
   "outputs": [
    {
     "name": "stderr",
     "output_type": "stream",
     "text": [
      "INFO:__main__:Streaming messages with model anthropic.claude-3-sonnet-20240229-v1:0\n"
     ]
    },
    {
     "name": "stdout",
     "output_type": "stream",
     "text": [
      "¡Hola! Estoy bien, gracias por preguntar. Soy un asistente virtual y no tengo un estado físico o emocional como tal. ¿En qué puedo ayudarte hoy?"
     ]
    },
    {
     "data": {
      "text/plain": [
       "('end_turn',\n",
       " [{'text': '¡Hola! Estoy bien, gracias por preguntar. Soy un asistente virtual y no tengo un estado físico o emocional como tal. ¿En qué puedo ayudarte hoy?'}],\n",
       " ['¡Hola!',\n",
       "  ' Estoy bien, gracias por preguntar.',\n",
       "  ' Soy un asistente virtual y no tengo un estado físico o emocional como tal.',\n",
       "  ' ¿En qué puedo ayudarte hoy?'],\n",
       " {})"
      ]
     },
     "execution_count": 37,
     "metadata": {},
     "output_type": "execute_result"
    }
   ],
   "source": [
    "input_text = \"Hola que tal? como estamos?\"\n",
    "stream_conversation(bedrock_client, model_id, [{\"role\": \"user\",\"content\": [{\"text\": input_text}]}], tool_config)"
   ]
  },
  {
   "cell_type": "code",
   "execution_count": 52,
   "metadata": {},
   "outputs": [],
   "source": [
    "def generate_text(bedrock_client, model_id, tool_config, input_text):\n",
    "    logger.info(\"Generating text with model %s\", model_id)\n",
    "\n",
    "    messages = [{\"role\": \"user\",\"content\": [{\"text\": input_text}]}]\n",
    "\n",
    "    response = bedrock_client.converse(\n",
    "        modelId=model_id,\n",
    "        messages=messages,\n",
    "        toolConfig=tool_config\n",
    "    )\n",
    "\n",
    "    output_message = response['output']['message']\n",
    "    messages.append(output_message)\n",
    "    print (messages)\n",
    "    stop_reason = response['stopReason']\n",
    "\n",
    "    if stop_reason == 'tool_use':\n",
    "        # Tool use requested. Call the tool and send the result to the model.\n",
    "        tool_requests = response['output']['message']['content']\n",
    "        for tool_request in tool_requests:\n",
    "            if 'toolUse' in tool_request:\n",
    "                tool = tool_request['toolUse']\n",
    "                logger.info(\"Requesting tool %s. Request: %s\",\n",
    "                            tool['name'], tool['toolUseId'])\n",
    "\n",
    "                if tool['name'] == 'confirm_check_in':\n",
    "                    tool_result = {}\n",
    "\n",
    "                    res = confirm_check_in(tool['input']['locator'], tool['input']['last_name'])\n",
    "                    tool_result = {\n",
    "                        \"toolUseId\": tool['toolUseId'],\n",
    "                        \"content\": [{\"json\": {\"result\": res}}]\n",
    "                    }\n",
    "      \n",
    "\n",
    "                    tool_result_message = {\n",
    "                        \"role\": \"user\",\n",
    "                        \"content\": [\n",
    "                            {\n",
    "                                \"toolResult\": tool_result\n",
    "\n",
    "                            }\n",
    "                        ]\n",
    "                    }\n",
    "                    messages.append(tool_result_message)\n",
    "                    print (messages)\n",
    "                    # Send the tool result to the model.\n",
    "                    response = bedrock_client.converse(\n",
    "                        modelId=model_id,\n",
    "                        messages=messages,\n",
    "                        toolConfig=tool_config\n",
    "                    )\n",
    "                    output_message = response['output']['message']\n",
    "                    print(f\"output_message: {output_message}\")\n",
    "\n",
    "    # print the final response from the model.\n",
    "    for content in output_message['content']:\n",
    "        print(f\"{content['text']}\")"
   ]
  },
  {
   "cell_type": "code",
   "execution_count": 53,
   "metadata": {},
   "outputs": [],
   "source": [
    "input_text = \"Hola mi me llamo enrique rodriguez y mi codigo de reserva es ABC222\"\n"
   ]
  },
  {
   "cell_type": "code",
   "execution_count": 54,
   "metadata": {},
   "outputs": [
    {
     "name": "stderr",
     "output_type": "stream",
     "text": [
      "INFO:__main__:Generating text with model anthropic.claude-3-sonnet-20240229-v1:0\n",
      "INFO:__main__:Requesting tool confirm_check_in. Request: tooluse_HyhsY1pWRH200oCAjSxP0w\n"
     ]
    },
    {
     "name": "stdout",
     "output_type": "stream",
     "text": [
      "[{'role': 'user', 'content': [{'text': 'Hola mi me llamo enrique rodriguez y mi codigo de reserva es ABC222'}]}, {'role': 'assistant', 'content': [{'text': 'Muy bien, confirmemos su check-in con esos datos:'}, {'toolUse': {'toolUseId': 'tooluse_HyhsY1pWRH200oCAjSxP0w', 'name': 'confirm_check_in', 'input': {'last_name': 'Rodriguez', 'locator': 'ABC222'}}}]}]\n",
      "ABC222 Rodriguez\n",
      "[{'role': 'user', 'content': [{'text': 'Hola mi me llamo enrique rodriguez y mi codigo de reserva es ABC222'}]}, {'role': 'assistant', 'content': [{'text': 'Muy bien, confirmemos su check-in con esos datos:'}, {'toolUse': {'toolUseId': 'tooluse_HyhsY1pWRH200oCAjSxP0w', 'name': 'confirm_check_in', 'input': {'last_name': 'Rodriguez', 'locator': 'ABC222'}}}]}, {'role': 'user', 'content': [{'toolResult': {'toolUseId': 'tooluse_HyhsY1pWRH200oCAjSxP0w', 'content': [{'json': {'result': 'check-in confirmado'}}]}}]}]\n",
      "output_message: {'role': 'assistant', 'content': [{'text': 'El check-in ha sido confirmado exitosamente para el Sr. Enrique Rodriguez con el código de reserva ABC222. Por favor preséntese en el mostrador de la aerolínea con su documento de identidad para obtener su tarjeta de embarque.'}]}\n",
      "El check-in ha sido confirmado exitosamente para el Sr. Enrique Rodriguez con el código de reserva ABC222. Por favor preséntese en el mostrador de la aerolínea con su documento de identidad para obtener su tarjeta de embarque.\n"
     ]
    }
   ],
   "source": [
    "generate_text(bedrock_client, model_id, tool_config, input_text)\n"
   ]
  },
  {
   "cell_type": "code",
   "execution_count": null,
   "metadata": {},
   "outputs": [],
   "source": []
  }
 ],
 "metadata": {
  "kernelspec": {
   "display_name": ".venv",
   "language": "python",
   "name": "python3"
  },
  "language_info": {
   "codemirror_mode": {
    "name": "ipython",
    "version": 3
   },
   "file_extension": ".py",
   "mimetype": "text/x-python",
   "name": "python",
   "nbconvert_exporter": "python",
   "pygments_lexer": "ipython3",
   "version": "3.12.3"
  }
 },
 "nbformat": 4,
 "nbformat_minor": 2
}
