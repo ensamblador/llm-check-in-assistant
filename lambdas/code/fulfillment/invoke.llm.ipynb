{
 "cells": [
  {
   "cell_type": "code",
   "execution_count": 1,
   "metadata": {},
   "outputs": [],
   "source": [
    "import boto3\n",
    "import json\n",
    "\n",
    "bedrock_client = boto3.client('bedrock-runtime')\n",
    "model_id = \"anthropic.claude-3-haiku-20240307-v1:0\"\n",
    "\n",
    "user_input =\"Hola\"\n",
    "\n",
    "messages = [{\"role\": \"user\",\"content\": [{\"type\":\"text\", \"text\": user_input}]}]\n",
    "system_prompt = \"You are a helpful assistant.\"\n",
    "\n",
    "body=json.dumps(\n",
    "    {\n",
    "        \"anthropic_version\": \"bedrock-2023-05-31\",\n",
    "        \"max_tokens\": 100,\n",
    "        \"system\": system_prompt,\n",
    "        \"messages\": messages\n",
    "    }  \n",
    ")  \n",
    "\n",
    "response = bedrock_client.invoke_model(\n",
    "    modelId=model_id,\n",
    "    body=body\n",
    ")"
   ]
  },
  {
   "cell_type": "code",
   "execution_count": 2,
   "metadata": {},
   "outputs": [
    {
     "ename": "AttributeError",
     "evalue": "'NoneType' object has no attribute 'get'",
     "output_type": "error",
     "traceback": [
      "\u001b[0;31m---------------------------------------------------------------------------\u001b[0m",
      "\u001b[0;31mAttributeError\u001b[0m                            Traceback (most recent call last)",
      "Cell \u001b[0;32mIn[2], line 1\u001b[0m\n\u001b[0;32m----> 1\u001b[0m \u001b[43mresponse\u001b[49m\u001b[38;5;241;43m.\u001b[39;49m\u001b[43mget\u001b[49m\u001b[43m(\u001b[49m\u001b[38;5;124;43m'\u001b[39;49m\u001b[38;5;124;43moutput\u001b[39;49m\u001b[38;5;124;43m'\u001b[39;49m\u001b[43m)\u001b[49m\u001b[38;5;241;43m.\u001b[39;49m\u001b[43mget\u001b[49m(\u001b[38;5;124m'\u001b[39m\u001b[38;5;124mmessage\u001b[39m\u001b[38;5;124m'\u001b[39m)\u001b[38;5;241m.\u001b[39mget(\u001b[38;5;124m'\u001b[39m\u001b[38;5;124mcontent\u001b[39m\u001b[38;5;124m'\u001b[39m)[\u001b[38;5;241m0\u001b[39m]\u001b[38;5;241m.\u001b[39mget(\u001b[38;5;124m'\u001b[39m\u001b[38;5;124mtext\u001b[39m\u001b[38;5;124m'\u001b[39m)\n",
      "\u001b[0;31mAttributeError\u001b[0m: 'NoneType' object has no attribute 'get'"
     ]
    }
   ],
   "source": [
    "response.get('output').get('message').get('content')[0].get('text')"
   ]
  },
  {
   "cell_type": "code",
   "execution_count": 5,
   "metadata": {},
   "outputs": [],
   "source": [
    "response_body = json.loads(response.get('body').read())"
   ]
  },
  {
   "cell_type": "code",
   "execution_count": 6,
   "metadata": {},
   "outputs": [
    {
     "data": {
      "text/plain": [
       "'¡Hola! ¿Cómo estás?'"
      ]
     },
     "execution_count": 6,
     "metadata": {},
     "output_type": "execute_result"
    }
   ],
   "source": [
    "response_body.get('content')[0].get('text')"
   ]
  },
  {
   "cell_type": "markdown",
   "metadata": {},
   "source": [
    "response_body"
   ]
  },
  {
   "cell_type": "markdown",
   "metadata": {},
   "source": [
    "# Tool usage"
   ]
  },
  {
   "cell_type": "code",
   "execution_count": 13,
   "metadata": {},
   "outputs": [],
   "source": [
    "import logging\n",
    "logger = logging.getLogger(__name__)\n",
    "logging.basicConfig(level=logging.INFO)\n",
    "\n",
    "bedrock_client = boto3.client('bedrock-runtime')\n",
    "model_id = \"anthropic.claude-3-haiku-20240307-v1:0\"\n",
    "\n",
    "def confirm_check_in(locator, last_name):\n",
    "    print (locator, last_name)\n",
    "    return \"check-in confirmado\""
   ]
  },
  {
   "cell_type": "code",
   "execution_count": 9,
   "metadata": {},
   "outputs": [],
   "source": [
    "tool_config = {\n",
    "    \"tools\": [\n",
    "        {\n",
    "            \"toolSpec\": {\n",
    "                \"name\": \"confirm_check_in\",\n",
    "                \"description\": \"Confirma el checkin del pasajero usando record locator y apellido\",\n",
    "                \"inputSchema\": {\n",
    "                    \"json\": {\n",
    "                        \"type\": \"object\",\n",
    "                        \"properties\": {\n",
    "                            \"locator\": {\n",
    "                                \"type\": \"string\",\n",
    "                                \"description\": \"El record locator en formato ABC123 (tres letras y tres dígitos)\",\n",
    "                            },\n",
    "                            \"last_name\": {\n",
    "                                \"type\": \"string\",\n",
    "                                \"description\": \"El apellido del pasajero como Rodríguez, Vásquez o Garrido\",\n",
    "                            },\n",
    "                        },\n",
    "                        \"required\": [\"locator\", \"last_name\"],\n",
    "                    }\n",
    "                },\n",
    "            }\n",
    "        }\n",
    "    ]\n",
    "}"
   ]
  },
  {
   "cell_type": "code",
   "execution_count": 17,
   "metadata": {},
   "outputs": [],
   "source": [
    "def generate_text(bedrock_client, model_id, tool_config, input_text):\n",
    "    logger.info(\"Generating text with model %s\", model_id)\n",
    "\n",
    "    messages = [{\"role\": \"user\",\"content\": [{\"text\": input_text}]}]\n",
    "\n",
    "    response = bedrock_client.converse(\n",
    "        modelId=model_id,\n",
    "        messages=messages,\n",
    "        toolConfig=tool_config\n",
    "    )\n",
    "\n",
    "    output_message = response['output']['message']\n",
    "    messages.append(output_message)\n",
    "    stop_reason = response['stopReason']\n",
    "\n",
    "    if stop_reason == 'tool_use':\n",
    "        # Tool use requested. Call the tool and send the result to the model.\n",
    "        tool_requests = response['output']['message']['content']\n",
    "        for tool_request in tool_requests:\n",
    "            if 'toolUse' in tool_request:\n",
    "                tool = tool_request['toolUse']\n",
    "                logger.info(\"Requesting tool %s. Request: %s\",\n",
    "                            tool['name'], tool['toolUseId'])\n",
    "\n",
    "                if tool['name'] == 'confirm_check_in':\n",
    "                    tool_result = {}\n",
    "\n",
    "                    res = confirm_check_in(tool['input']['locator'], tool['input']['last_name'])\n",
    "                    tool_result = {\n",
    "                        \"toolUseId\": tool['toolUseId'],\n",
    "                        \"content\": [{\"json\": {\"result\": res}}]\n",
    "                    }\n",
    "      \n",
    "\n",
    "                    tool_result_message = {\n",
    "                        \"role\": \"user\",\n",
    "                        \"content\": [\n",
    "                            {\n",
    "                                \"toolResult\": tool_result\n",
    "\n",
    "                            }\n",
    "                        ]\n",
    "                    }\n",
    "                    messages.append(tool_result_message)\n",
    "\n",
    "                    # Send the tool result to the model.\n",
    "                    response = bedrock_client.converse(\n",
    "                        modelId=model_id,\n",
    "                        messages=messages,\n",
    "                        toolConfig=tool_config\n",
    "                    )\n",
    "                    output_message = response['output']['message']\n",
    "                    print(f\"output_message: {output_message}\")\n",
    "\n",
    "    # print the final response from the model.\n",
    "    for content in output_message['content']:\n",
    "        print(f\"{content['text']}\")"
   ]
  },
  {
   "cell_type": "code",
   "execution_count": 18,
   "metadata": {},
   "outputs": [],
   "source": [
    "input_text = \"Hola mi me llamo enrique rodriguez y mi codigo de reserva es ABC222\"\n"
   ]
  },
  {
   "cell_type": "code",
   "execution_count": 19,
   "metadata": {},
   "outputs": [
    {
     "name": "stderr",
     "output_type": "stream",
     "text": [
      "INFO:__main__:Generating text with model anthropic.claude-3-haiku-20240307-v1:0\n",
      "INFO:__main__:Requesting tool confirm_check_in. Request: tooluse_MSB8GEM1RKKpKRMvwc9CbQ\n"
     ]
    },
    {
     "name": "stdout",
     "output_type": "stream",
     "text": [
      "ABC222 Rodriguez\n",
      "output_message: {'role': 'assistant', 'content': [{'text': 'Gracias por proporcionar la información. He confirmado su registro de facturación con el código de reserva ABC222 y el apellido Rodriguez. Disfrute de su vuelo.'}]}\n",
      "Gracias por proporcionar la información. He confirmado su registro de facturación con el código de reserva ABC222 y el apellido Rodriguez. Disfrute de su vuelo.\n"
     ]
    }
   ],
   "source": [
    "generate_text(bedrock_client, model_id, tool_config, input_text)\n"
   ]
  },
  {
   "cell_type": "code",
   "execution_count": null,
   "metadata": {},
   "outputs": [],
   "source": []
  }
 ],
 "metadata": {
  "kernelspec": {
   "display_name": ".venv",
   "language": "python",
   "name": "python3"
  },
  "language_info": {
   "codemirror_mode": {
    "name": "ipython",
    "version": 3
   },
   "file_extension": ".py",
   "mimetype": "text/x-python",
   "name": "python",
   "nbconvert_exporter": "python",
   "pygments_lexer": "ipython3",
   "version": "3.12.3"
  }
 },
 "nbformat": 4,
 "nbformat_minor": 2
}
